{
 "cells": [
  {
   "cell_type": "code",
   "execution_count": 53,
   "metadata": {},
   "outputs": [
    {
     "data": {
      "text/plain": [
       "['https://film-grab.com/2014/07/10/the-grand-budapest-hotel/',\n",
       " 'https://film-grab.com/2014/05/22/bottle-rocket/',\n",
       " 'https://film-grab.com/2013/04/29/fantastic-mr-fox/',\n",
       " 'https://film-grab.com/2013/01/20/moonrise-kingdom/',\n",
       " 'https://film-grab.com/2012/10/03/the-life-aquatic-with-steve-zissou/',\n",
       " 'https://film-grab.com/2011/03/24/the-royal-tenenbaums/',\n",
       " 'https://film-grab.com/2010/10/14/rushmore/',\n",
       " 'https://film-grab.com/2010/07/19/the-darjeeling-limited/']"
      ]
     },
     "execution_count": 53,
     "metadata": {},
     "output_type": "execute_result"
    }
   ],
   "source": [
    "from requests_html import HTMLSession\n",
    "session = HTMLSession()\n",
    "#bwg-a bwg_lightbox\n",
    "response = session.get('https://film-grab.com/category/wes-anderson/')\n",
    "#https://film-grab.com/2014/07/10/the-grand-budapest-hotel/\n",
    "\n",
    "link_tags = response.html.find(\"a.popup-image\")\n",
    "links = []\n",
    "for link in link_tags:\n",
    "    links.append(link.attrs.get('href'))\n",
    "\n",
    "links"
   ]
  },
  {
   "cell_type": "code",
   "execution_count": 59,
   "metadata": {},
   "outputs": [
    {
     "data": {
      "text/html": [
       "<div>\n",
       "<style scoped>\n",
       "    .dataframe tbody tr th:only-of-type {\n",
       "        vertical-align: middle;\n",
       "    }\n",
       "\n",
       "    .dataframe tbody tr th {\n",
       "        vertical-align: top;\n",
       "    }\n",
       "\n",
       "    .dataframe thead th {\n",
       "        text-align: right;\n",
       "    }\n",
       "</style>\n",
       "<table border=\"1\" class=\"dataframe\">\n",
       "  <thead>\n",
       "    <tr style=\"text-align: right;\">\n",
       "      <th></th>\n",
       "      <th>movie_title</th>\n",
       "      <th>images</th>\n",
       "    </tr>\n",
       "  </thead>\n",
       "  <tbody>\n",
       "  </tbody>\n",
       "</table>\n",
       "</div>"
      ],
      "text/plain": [
       "Empty DataFrame\n",
       "Columns: [movie_title, images]\n",
       "Index: []"
      ]
     },
     "execution_count": 59,
     "metadata": {},
     "output_type": "execute_result"
    }
   ],
   "source": [
    "import pandas as pd\n",
    "\n",
    "clist_df = pd.DataFrame(columns=['movie_title','images','id'])\n",
    "clist_df"
   ]
  },
  {
   "cell_type": "code",
   "execution_count": 104,
   "metadata": {},
   "outputs": [],
   "source": [
    "for link in links:\n",
    "    response = session.get(link)\n",
    "    \n",
    "    try:          \n",
    "        movie_title = response.html.find('.entry-title', first=True).text\n",
    "        images = [image.attrs.get('href') for image in response.html.find('.bwg-a')]\n",
    "        id = [i.attrs.get('data-image-id') for i in response.html.find('.bwg-a')]\n",
    "        \n",
    "        clist_df = clist_df.append({\n",
    "            'movie_title': movie_title,\n",
    "            'images': images,\n",
    "            'id': id}, ignore_index=True)\n",
    "\n",
    "    except Exception as e:\n",
    "        print(e)\n",
    "        print('failed on ' + link)"
   ]
  },
  {
   "cell_type": "code",
   "execution_count": 105,
   "metadata": {
    "scrolled": true
   },
   "outputs": [
    {
     "data": {
      "text/html": [
       "<div>\n",
       "<style scoped>\n",
       "    .dataframe tbody tr th:only-of-type {\n",
       "        vertical-align: middle;\n",
       "    }\n",
       "\n",
       "    .dataframe tbody tr th {\n",
       "        vertical-align: top;\n",
       "    }\n",
       "\n",
       "    .dataframe thead th {\n",
       "        text-align: right;\n",
       "    }\n",
       "</style>\n",
       "<table border=\"1\" class=\"dataframe\">\n",
       "  <thead>\n",
       "    <tr style=\"text-align: right;\">\n",
       "      <th></th>\n",
       "      <th>movie_title</th>\n",
       "      <th>images</th>\n",
       "      <th>id</th>\n",
       "    </tr>\n",
       "  </thead>\n",
       "  <tbody>\n",
       "    <tr>\n",
       "      <td>0</td>\n",
       "      <td>The Grand Budapest Hotel</td>\n",
       "      <td>[https://film-grab.com/wp-content/uploads/phot...</td>\n",
       "      <td>NaN</td>\n",
       "    </tr>\n",
       "    <tr>\n",
       "      <td>1</td>\n",
       "      <td>Bottle Rocket</td>\n",
       "      <td>[https://film-grab.com/wp-content/uploads/phot...</td>\n",
       "      <td>NaN</td>\n",
       "    </tr>\n",
       "    <tr>\n",
       "      <td>2</td>\n",
       "      <td>Fantastic Mr. Fox</td>\n",
       "      <td>[https://film-grab.com/wp-content/uploads/phot...</td>\n",
       "      <td>NaN</td>\n",
       "    </tr>\n",
       "    <tr>\n",
       "      <td>3</td>\n",
       "      <td>Moonrise Kingdom</td>\n",
       "      <td>[https://film-grab.com/wp-content/uploads/phot...</td>\n",
       "      <td>NaN</td>\n",
       "    </tr>\n",
       "    <tr>\n",
       "      <td>4</td>\n",
       "      <td>The Life Aquatic With Steve Zissou</td>\n",
       "      <td>[https://film-grab.com/wp-content/uploads/phot...</td>\n",
       "      <td>NaN</td>\n",
       "    </tr>\n",
       "    <tr>\n",
       "      <td>...</td>\n",
       "      <td>...</td>\n",
       "      <td>...</td>\n",
       "      <td>...</td>\n",
       "    </tr>\n",
       "    <tr>\n",
       "      <td>123</td>\n",
       "      <td>Moonrise Kingdom</td>\n",
       "      <td>[https://film-grab.com/wp-content/uploads/phot...</td>\n",
       "      <td>[None, None, None, None, None, None, None, Non...</td>\n",
       "    </tr>\n",
       "    <tr>\n",
       "      <td>124</td>\n",
       "      <td>The Life Aquatic With Steve Zissou</td>\n",
       "      <td>[https://film-grab.com/wp-content/uploads/phot...</td>\n",
       "      <td>[None, None, None, None, None, None, None, Non...</td>\n",
       "    </tr>\n",
       "    <tr>\n",
       "      <td>125</td>\n",
       "      <td>The Royal Tenenbaums</td>\n",
       "      <td>[https://film-grab.com/wp-content/uploads/phot...</td>\n",
       "      <td>[None, None, None, None, None, None, None, Non...</td>\n",
       "    </tr>\n",
       "    <tr>\n",
       "      <td>126</td>\n",
       "      <td>Rushmore</td>\n",
       "      <td>[https://film-grab.com/wp-content/uploads/phot...</td>\n",
       "      <td>[None, None, None, None, None, None, None, Non...</td>\n",
       "    </tr>\n",
       "    <tr>\n",
       "      <td>127</td>\n",
       "      <td>The Darjeeling Limited</td>\n",
       "      <td>[https://film-grab.com/wp-content/uploads/phot...</td>\n",
       "      <td>[None, None, None, None, None, None, None, Non...</td>\n",
       "    </tr>\n",
       "  </tbody>\n",
       "</table>\n",
       "<p>128 rows × 3 columns</p>\n",
       "</div>"
      ],
      "text/plain": [
       "                            movie_title  \\\n",
       "0              The Grand Budapest Hotel   \n",
       "1                         Bottle Rocket   \n",
       "2                     Fantastic Mr. Fox   \n",
       "3                      Moonrise Kingdom   \n",
       "4    The Life Aquatic With Steve Zissou   \n",
       "..                                  ...   \n",
       "123                    Moonrise Kingdom   \n",
       "124  The Life Aquatic With Steve Zissou   \n",
       "125                The Royal Tenenbaums   \n",
       "126                            Rushmore   \n",
       "127              The Darjeeling Limited   \n",
       "\n",
       "                                                images  \\\n",
       "0    [https://film-grab.com/wp-content/uploads/phot...   \n",
       "1    [https://film-grab.com/wp-content/uploads/phot...   \n",
       "2    [https://film-grab.com/wp-content/uploads/phot...   \n",
       "3    [https://film-grab.com/wp-content/uploads/phot...   \n",
       "4    [https://film-grab.com/wp-content/uploads/phot...   \n",
       "..                                                 ...   \n",
       "123  [https://film-grab.com/wp-content/uploads/phot...   \n",
       "124  [https://film-grab.com/wp-content/uploads/phot...   \n",
       "125  [https://film-grab.com/wp-content/uploads/phot...   \n",
       "126  [https://film-grab.com/wp-content/uploads/phot...   \n",
       "127  [https://film-grab.com/wp-content/uploads/phot...   \n",
       "\n",
       "                                                    id  \n",
       "0                                                  NaN  \n",
       "1                                                  NaN  \n",
       "2                                                  NaN  \n",
       "3                                                  NaN  \n",
       "4                                                  NaN  \n",
       "..                                                 ...  \n",
       "123  [None, None, None, None, None, None, None, Non...  \n",
       "124  [None, None, None, None, None, None, None, Non...  \n",
       "125  [None, None, None, None, None, None, None, Non...  \n",
       "126  [None, None, None, None, None, None, None, Non...  \n",
       "127  [None, None, None, None, None, None, None, Non...  \n",
       "\n",
       "[128 rows x 3 columns]"
      ]
     },
     "execution_count": 105,
     "metadata": {},
     "output_type": "execute_result"
    }
   ],
   "source": [
    "clist_df"
   ]
  },
  {
   "cell_type": "code",
   "execution_count": 103,
   "metadata": {},
   "outputs": [
    {
     "data": {
      "text/plain": [
       "'https://film-grab.com/wp-content/uploads/photo-gallery/01 (1028).jpg?bwg=1547463327'"
      ]
     },
     "execution_count": 103,
     "metadata": {},
     "output_type": "execute_result"
    }
   ],
   "source": [
    "clist_df.images[119][0]"
   ]
  },
  {
   "cell_type": "code",
   "execution_count": null,
   "metadata": {},
   "outputs": [],
   "source": []
  }
 ],
 "metadata": {
  "kernelspec": {
   "display_name": "Python 3",
   "language": "python",
   "name": "python3"
  },
  "language_info": {
   "codemirror_mode": {
    "name": "ipython",
    "version": 3
   },
   "file_extension": ".py",
   "mimetype": "text/x-python",
   "name": "python",
   "nbconvert_exporter": "python",
   "pygments_lexer": "ipython3",
   "version": "3.7.4"
  }
 },
 "nbformat": 4,
 "nbformat_minor": 2
}
